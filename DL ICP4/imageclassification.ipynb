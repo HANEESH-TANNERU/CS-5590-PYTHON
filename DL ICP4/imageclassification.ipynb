{
  "nbformat": 4,
  "nbformat_minor": 0,
  "metadata": {
    "colab": {
      "name": "imageclassification.ipynb",
      "provenance": []
    },
    "kernelspec": {
      "name": "python3",
      "display_name": "Python 3"
    },
    "accelerator": "GPU"
  },
  "cells": [
    {
      "cell_type": "code",
      "metadata": {
        "id": "MYKplFkz2VhB",
        "colab_type": "code",
        "colab": {}
      },
      "source": [
        ""
      ],
      "execution_count": 0,
      "outputs": []
    },
    {
      "cell_type": "code",
      "metadata": {
        "id": "ti_8ycpdlZhB",
        "colab_type": "code",
        "outputId": "41983011-b77a-4626-c411-e4e651476055",
        "colab": {
          "base_uri": "https://localhost:8080/",
          "height": 1000
        }
      },
      "source": [
        "%tensorflow_version 1.13.1\n",
        "# Simple CNN model for CIFAR-10\n",
        "import numpy\n",
        "from tensorflow import keras\n",
        "from keras.datasets import cifar10\n",
        "from keras.models import Sequential\n",
        "from keras.layers import Dense\n",
        "from keras.layers import Dropout\n",
        "from keras.layers import Flatten\n",
        "from keras.constraints import maxnorm\n",
        "from keras.optimizers import SGD\n",
        "from keras.layers.convolutional import Conv2D\n",
        "from keras.layers.convolutional import MaxPooling2D\n",
        "from keras.utils import np_utils\n",
        "from tensorflow.python.keras import backend\n",
        "keras.backend.image_data_format()\n",
        "\n",
        "# fix random seed for reproducibility\n",
        "seed = 7\n",
        "numpy.random.seed(seed)\n",
        "# load data\n",
        "(X_train, y_train), (X_test, y_test) = cifar10.load_data()\n",
        "# normalize inputs from 0-255 to 0.0-1.0\n",
        "X_train = X_train.astype('float32')\n",
        "X_test = X_test.astype('float32')\n",
        "X_train = X_train / 255.0\n",
        "X_test = X_test / 255.0\n",
        "# one hot encode outputs\n",
        "y_train = np_utils.to_categorical(y_train)\n",
        "y_test = np_utils.to_categorical(y_test)\n",
        "num_classes = y_test.shape[1]\n",
        "# Create the model\n",
        "model = Sequential()\n",
        "model.add(Conv2D(32, (3, 3), input_shape=(32, 32, 3), padding='same', activation='relu', kernel_constraint=maxnorm(3)))\n",
        "model.add(Dropout(0.2))\n",
        "model.add(Conv2D(32, (3, 3), activation='relu', padding='same', kernel_constraint=maxnorm(3)))\n",
        "model.add(MaxPooling2D(pool_size=(2, 2)))\n",
        "model.add(Flatten())\n",
        "model.add(Dense(512, activation='relu', kernel_constraint=maxnorm(3)))\n",
        "model.add(Dropout(0.5))\n",
        "model.add(Dense(num_classes, activation='softmax'))\n",
        "# Compile model\n",
        "epochs = 25\n",
        "lrate = 0.01\n",
        "decay = lrate/epochs\n",
        "sgd = SGD(lr=lrate, momentum=0.9, decay=decay, nesterov=False)\n",
        "model.compile(loss='categorical_crossentropy', optimizer=sgd, metrics=['accuracy'])\n",
        "print(model.summary())\n",
        "# Fit the model\n",
        "model.fit(X_train, y_train, validation_data=(X_test, y_test), epochs=epochs, batch_size=32)\n",
        "# Final evaluation of the model\n",
        "scores = model.evaluate(X_test, y_test, verbose=0)\n",
        "print(\"Accuracy: %.2f%%\" % (scores[1]*100))"
      ],
      "execution_count": 0,
      "outputs": [
        {
          "output_type": "stream",
          "text": [
            "`%tensorflow_version` only switches the major version: 1.x or 2.x.\n",
            "You set: `1.13.1`. This will be interpreted as: `1.x`.\n",
            "\n",
            "\n",
            "TensorFlow 1.x selected.\n"
          ],
          "name": "stdout"
        },
        {
          "output_type": "stream",
          "text": [
            "Using TensorFlow backend.\n"
          ],
          "name": "stderr"
        },
        {
          "output_type": "stream",
          "text": [
            "Downloading data from https://www.cs.toronto.edu/~kriz/cifar-10-python.tar.gz\n",
            "170500096/170498071 [==============================] - 6s 0us/step\n",
            "WARNING:tensorflow:From /tensorflow-1.15.2/python3.6/tensorflow_core/python/ops/resource_variable_ops.py:1630: calling BaseResourceVariable.__init__ (from tensorflow.python.ops.resource_variable_ops) with constraint is deprecated and will be removed in a future version.\n",
            "Instructions for updating:\n",
            "If using Keras pass *_constraint arguments to layers.\n",
            "WARNING:tensorflow:From /usr/local/lib/python3.6/dist-packages/keras/backend/tensorflow_backend.py:4070: The name tf.nn.max_pool is deprecated. Please use tf.nn.max_pool2d instead.\n",
            "\n",
            "Model: \"sequential_1\"\n",
            "_________________________________________________________________\n",
            "Layer (type)                 Output Shape              Param #   \n",
            "=================================================================\n",
            "conv2d_1 (Conv2D)            (None, 32, 32, 32)        896       \n",
            "_________________________________________________________________\n",
            "dropout_1 (Dropout)          (None, 32, 32, 32)        0         \n",
            "_________________________________________________________________\n",
            "conv2d_2 (Conv2D)            (None, 32, 32, 32)        9248      \n",
            "_________________________________________________________________\n",
            "max_pooling2d_1 (MaxPooling2 (None, 16, 16, 32)        0         \n",
            "_________________________________________________________________\n",
            "flatten_1 (Flatten)          (None, 8192)              0         \n",
            "_________________________________________________________________\n",
            "dense_1 (Dense)              (None, 512)               4194816   \n",
            "_________________________________________________________________\n",
            "dropout_2 (Dropout)          (None, 512)               0         \n",
            "_________________________________________________________________\n",
            "dense_2 (Dense)              (None, 10)                5130      \n",
            "=================================================================\n",
            "Total params: 4,210,090\n",
            "Trainable params: 4,210,090\n",
            "Non-trainable params: 0\n",
            "_________________________________________________________________\n",
            "None\n",
            "WARNING:tensorflow:From /usr/local/lib/python3.6/dist-packages/keras/backend/tensorflow_backend.py:422: The name tf.global_variables is deprecated. Please use tf.compat.v1.global_variables instead.\n",
            "\n",
            "Train on 50000 samples, validate on 10000 samples\n",
            "Epoch 1/25\n",
            "50000/50000 [==============================] - 17s 337us/step - loss: 1.7361 - accuracy: 0.3687 - val_loss: 1.3840 - val_accuracy: 0.4957\n",
            "Epoch 2/25\n",
            "50000/50000 [==============================] - 10s 200us/step - loss: 1.3643 - accuracy: 0.5084 - val_loss: 1.2074 - val_accuracy: 0.5722\n",
            "Epoch 3/25\n",
            "50000/50000 [==============================] - 10s 194us/step - loss: 1.1786 - accuracy: 0.5803 - val_loss: 1.0959 - val_accuracy: 0.6151\n",
            "Epoch 4/25\n",
            "50000/50000 [==============================] - 10s 196us/step - loss: 1.0428 - accuracy: 0.6309 - val_loss: 1.0370 - val_accuracy: 0.6324\n",
            "Epoch 5/25\n",
            "50000/50000 [==============================] - 10s 202us/step - loss: 0.9354 - accuracy: 0.6674 - val_loss: 0.9599 - val_accuracy: 0.6604\n",
            "Epoch 6/25\n",
            "50000/50000 [==============================] - 10s 202us/step - loss: 0.8502 - accuracy: 0.6986 - val_loss: 0.9393 - val_accuracy: 0.6715\n",
            "Epoch 7/25\n",
            "50000/50000 [==============================] - 10s 195us/step - loss: 0.7722 - accuracy: 0.7269 - val_loss: 0.9133 - val_accuracy: 0.6855\n",
            "Epoch 8/25\n",
            "50000/50000 [==============================] - 10s 193us/step - loss: 0.7052 - accuracy: 0.7489 - val_loss: 0.9006 - val_accuracy: 0.6873\n",
            "Epoch 9/25\n",
            "50000/50000 [==============================] - 10s 194us/step - loss: 0.6448 - accuracy: 0.7726 - val_loss: 0.9225 - val_accuracy: 0.6902\n",
            "Epoch 10/25\n",
            "50000/50000 [==============================] - 10s 197us/step - loss: 0.5894 - accuracy: 0.7928 - val_loss: 0.9171 - val_accuracy: 0.6971\n",
            "Epoch 11/25\n",
            "50000/50000 [==============================] - 10s 197us/step - loss: 0.5452 - accuracy: 0.8059 - val_loss: 0.9034 - val_accuracy: 0.7027\n",
            "Epoch 12/25\n",
            "50000/50000 [==============================] - 10s 194us/step - loss: 0.5036 - accuracy: 0.8213 - val_loss: 0.9195 - val_accuracy: 0.6989\n",
            "Epoch 13/25\n",
            "50000/50000 [==============================] - 10s 194us/step - loss: 0.4635 - accuracy: 0.8362 - val_loss: 0.9343 - val_accuracy: 0.7044\n",
            "Epoch 14/25\n",
            "50000/50000 [==============================] - 10s 194us/step - loss: 0.4281 - accuracy: 0.8483 - val_loss: 0.9348 - val_accuracy: 0.7058\n",
            "Epoch 15/25\n",
            "50000/50000 [==============================] - 10s 193us/step - loss: 0.3977 - accuracy: 0.8597 - val_loss: 0.9500 - val_accuracy: 0.7062\n",
            "Epoch 16/25\n",
            "50000/50000 [==============================] - 10s 195us/step - loss: 0.3715 - accuracy: 0.8686 - val_loss: 0.9639 - val_accuracy: 0.7103\n",
            "Epoch 17/25\n",
            "50000/50000 [==============================] - 10s 196us/step - loss: 0.3411 - accuracy: 0.8799 - val_loss: 0.9796 - val_accuracy: 0.7073\n",
            "Epoch 18/25\n",
            "50000/50000 [==============================] - 10s 195us/step - loss: 0.3239 - accuracy: 0.8865 - val_loss: 0.9765 - val_accuracy: 0.7124\n",
            "Epoch 19/25\n",
            "50000/50000 [==============================] - 10s 197us/step - loss: 0.3007 - accuracy: 0.8943 - val_loss: 1.0048 - val_accuracy: 0.7121\n",
            "Epoch 20/25\n",
            "50000/50000 [==============================] - 10s 195us/step - loss: 0.2834 - accuracy: 0.9025 - val_loss: 1.0278 - val_accuracy: 0.7121\n",
            "Epoch 21/25\n",
            "50000/50000 [==============================] - 10s 198us/step - loss: 0.2641 - accuracy: 0.9074 - val_loss: 1.0307 - val_accuracy: 0.7107\n",
            "Epoch 22/25\n",
            "50000/50000 [==============================] - 10s 200us/step - loss: 0.2523 - accuracy: 0.9125 - val_loss: 1.0536 - val_accuracy: 0.7117\n",
            "Epoch 23/25\n",
            "50000/50000 [==============================] - 10s 198us/step - loss: 0.2448 - accuracy: 0.9152 - val_loss: 1.0720 - val_accuracy: 0.7092\n",
            "Epoch 24/25\n",
            "50000/50000 [==============================] - 10s 197us/step - loss: 0.2341 - accuracy: 0.9177 - val_loss: 1.0648 - val_accuracy: 0.7131\n",
            "Epoch 25/25\n",
            "50000/50000 [==============================] - 10s 194us/step - loss: 0.2204 - accuracy: 0.9227 - val_loss: 1.0746 - val_accuracy: 0.7133\n",
            "Accuracy: 71.33%\n"
          ],
          "name": "stdout"
        }
      ]
    },
    {
      "cell_type": "code",
      "metadata": {
        "id": "3bN_hzN62ZJj",
        "colab_type": "code",
        "outputId": "efe1c38c-5c21-4014-d256-051cf8b33d2d",
        "colab": {
          "base_uri": "https://localhost:8080/",
          "height": 302
        }
      },
      "source": [
        "!pip install q keras==2.2.4"
      ],
      "execution_count": 0,
      "outputs": [
        {
          "output_type": "stream",
          "text": [
            "Collecting q\n",
            "  Downloading https://files.pythonhosted.org/packages/53/bc/51619d89e0bd855567e7652fa16d06f1ed36a85f108a7fe71f6629bf719d/q-2.6-py2.py3-none-any.whl\n",
            "Collecting keras==2.2.4\n",
            "\u001b[?25l  Downloading https://files.pythonhosted.org/packages/5e/10/aa32dad071ce52b5502266b5c659451cfd6ffcbf14e6c8c4f16c0ff5aaab/Keras-2.2.4-py2.py3-none-any.whl (312kB)\n",
            "\r\u001b[K     |█                               | 10kB 23.6MB/s eta 0:00:01\r\u001b[K     |██                              | 20kB 30.2MB/s eta 0:00:01\r\u001b[K     |███▏                            | 30kB 3.1MB/s eta 0:00:01\r\u001b[K     |████▏                           | 40kB 3.8MB/s eta 0:00:01\r\u001b[K     |█████▎                          | 51kB 4.7MB/s eta 0:00:01\r\u001b[K     |██████▎                         | 61kB 5.6MB/s eta 0:00:01\r\u001b[K     |███████▍                        | 71kB 3.6MB/s eta 0:00:01\r\u001b[K     |████████▍                       | 81kB 3.9MB/s eta 0:00:01\r\u001b[K     |█████████▍                      | 92kB 4.4MB/s eta 0:00:01\r\u001b[K     |██████████▌                     | 102kB 4.8MB/s eta 0:00:01\r\u001b[K     |███████████▌                    | 112kB 4.8MB/s eta 0:00:01\r\u001b[K     |████████████▋                   | 122kB 4.8MB/s eta 0:00:01\r\u001b[K     |█████████████▋                  | 133kB 4.8MB/s eta 0:00:01\r\u001b[K     |██████████████▊                 | 143kB 4.8MB/s eta 0:00:01\r\u001b[K     |███████████████▊                | 153kB 4.8MB/s eta 0:00:01\r\u001b[K     |████████████████▊               | 163kB 4.8MB/s eta 0:00:01\r\u001b[K     |█████████████████▉              | 174kB 4.8MB/s eta 0:00:01\r\u001b[K     |██████████████████▉             | 184kB 4.8MB/s eta 0:00:01\r\u001b[K     |████████████████████            | 194kB 4.8MB/s eta 0:00:01\r\u001b[K     |█████████████████████           | 204kB 4.8MB/s eta 0:00:01\r\u001b[K     |██████████████████████          | 215kB 4.8MB/s eta 0:00:01\r\u001b[K     |███████████████████████         | 225kB 4.8MB/s eta 0:00:01\r\u001b[K     |████████████████████████▏       | 235kB 4.8MB/s eta 0:00:01\r\u001b[K     |█████████████████████████▏      | 245kB 4.8MB/s eta 0:00:01\r\u001b[K     |██████████████████████████▏     | 256kB 4.8MB/s eta 0:00:01\r\u001b[K     |███████████████████████████▎    | 266kB 4.8MB/s eta 0:00:01\r\u001b[K     |████████████████████████████▎   | 276kB 4.8MB/s eta 0:00:01\r\u001b[K     |█████████████████████████████▍  | 286kB 4.8MB/s eta 0:00:01\r\u001b[K     |██████████████████████████████▍ | 296kB 4.8MB/s eta 0:00:01\r\u001b[K     |███████████████████████████████▌| 307kB 4.8MB/s eta 0:00:01\r\u001b[K     |████████████████████████████████| 317kB 4.8MB/s \n",
            "\u001b[?25hRequirement already satisfied: numpy>=1.9.1 in /usr/local/lib/python3.6/dist-packages (from keras==2.2.4) (1.18.2)\n",
            "Requirement already satisfied: scipy>=0.14 in /usr/local/lib/python3.6/dist-packages (from keras==2.2.4) (1.4.1)\n",
            "Requirement already satisfied: h5py in /usr/local/lib/python3.6/dist-packages (from keras==2.2.4) (2.10.0)\n",
            "Requirement already satisfied: keras-preprocessing>=1.0.5 in /usr/local/lib/python3.6/dist-packages (from keras==2.2.4) (1.1.0)\n",
            "Requirement already satisfied: pyyaml in /usr/local/lib/python3.6/dist-packages (from keras==2.2.4) (3.13)\n",
            "Requirement already satisfied: six>=1.9.0 in /usr/local/lib/python3.6/dist-packages (from keras==2.2.4) (1.12.0)\n",
            "Requirement already satisfied: keras-applications>=1.0.6 in /usr/local/lib/python3.6/dist-packages (from keras==2.2.4) (1.0.8)\n",
            "Installing collected packages: q, keras\n",
            "  Found existing installation: Keras 2.3.1\n",
            "    Uninstalling Keras-2.3.1:\n",
            "      Successfully uninstalled Keras-2.3.1\n",
            "Successfully installed keras-2.2.4 q-2.6\n"
          ],
          "name": "stdout"
        }
      ]
    }
  ]
}