{
  "nbformat": 4,
  "nbformat_minor": 0,
  "metadata": {
    "colab": {
      "name": "bonus.ipynb",
      "provenance": []
    },
    "kernelspec": {
      "name": "python3",
      "display_name": "Python 3"
    }
  },
  "cells": [
    {
      "cell_type": "code",
      "metadata": {
        "id": "BZY6N7oIGfVn",
        "colab_type": "code",
        "colab": {}
      },
      "source": [
        "data1 = pd.read_csv('drive/My Drive/python/DL ICP 5/spam.csv',encoding=\"ISO-8859-1\")\n",
        "\n",
        "# Keeping only the neccessary columns\n",
        "data1 = data1[['v1','v2']]"
      ],
      "execution_count": 0,
      "outputs": []
    },
    {
      "cell_type": "code",
      "metadata": {
        "id": "Vbu-8QLtH42o",
        "colab_type": "code",
        "colab": {
          "base_uri": "https://localhost:8080/",
          "height": 34
        },
        "outputId": "be956aee-fb84-4c49-c4c2-f8ba053d38eb"
      },
      "source": [
        "import pandas as pd # data processing, CSV file I/O (e.g. pd.read_csv)\n",
        "from keras.preprocessing.text import Tokenizer\n",
        "from keras.preprocessing.sequence import pad_sequences\n",
        "from keras.models import Sequential\n",
        "from keras.layers import Dense, Embedding, LSTM, SpatialDropout1D\n",
        "from matplotlib import pyplot\n",
        "from sklearn.model_selection import train_test_split\n",
        "from keras.utils.np_utils import to_categorical\n",
        "import re\n",
        "from sklearn.preprocessing import LabelEncoder"
      ],
      "execution_count": 4,
      "outputs": [
        {
          "output_type": "stream",
          "text": [
            "Using TensorFlow backend.\n"
          ],
          "name": "stderr"
        }
      ]
    },
    {
      "cell_type": "code",
      "metadata": {
        "id": "hb4maoghGjhj",
        "colab_type": "code",
        "colab": {}
      },
      "source": [
        "data1['v2'] = data1['v2'].apply(lambda x: x.lower())\n",
        "data1['v2'] = data1['v2'].apply((lambda x: re.sub('[^a-zA-z0-9\\s]', '', x)))"
      ],
      "execution_count": 0,
      "outputs": []
    },
    {
      "cell_type": "code",
      "metadata": {
        "id": "R-y58LQHHSW-",
        "colab_type": "code",
        "colab": {}
      },
      "source": [
        "for idx, row in data1.iterrows():\n",
        "    row[0] = row[0].replace('rt', ' ')"
      ],
      "execution_count": 0,
      "outputs": []
    },
    {
      "cell_type": "code",
      "metadata": {
        "id": "swzqdXuSHSiU",
        "colab_type": "code",
        "colab": {}
      },
      "source": [
        "max_fatures = 2000\n",
        "tokenizer = Tokenizer(num_words=max_fatures, split=' ')\n",
        "tokenizer.fit_on_texts(data1['v2'].values)\n",
        "X = tokenizer.texts_to_sequences(data1['v2'].values)\n",
        "\n",
        "X = pad_sequences(X)"
      ],
      "execution_count": 0,
      "outputs": []
    },
    {
      "cell_type": "code",
      "metadata": {
        "id": "yC9u-PhLHYRv",
        "colab_type": "code",
        "colab": {}
      },
      "source": [
        "labelencoder = LabelEncoder()\n",
        "integer_encoded = labelencoder.fit_transform(data1['v1'])\n",
        "y = to_categorical(integer_encoded)\n",
        "X_train, X_test, Y_train, Y_test = train_test_split(X,y, test_size = 0.33, random_state = 42)"
      ],
      "execution_count": 0,
      "outputs": []
    },
    {
      "cell_type": "code",
      "metadata": {
        "id": "Jq7WGY9zHYas",
        "colab_type": "code",
        "colab": {}
      },
      "source": [
        "def createmodel1():\n",
        "  embed_dim=128\n",
        "  lstm_out=196\n",
        "  model = Sequential()\n",
        "  model.add(Embedding(max_fatures, embed_dim,input_length = X.shape[1]))\n",
        "  model.add(LSTM(lstm_out, dropout=0.2, recurrent_dropout=0.2))\n",
        "  model.add(Dense(2,activation='softmax'))\n",
        "  model.compile(loss = 'categorical_crossentropy', optimizer='adam',metrics = ['accuracy'])\n",
        "  return model"
      ],
      "execution_count": 0,
      "outputs": []
    },
    {
      "cell_type": "code",
      "metadata": {
        "id": "E-ysE_cVHYnR",
        "colab_type": "code",
        "colab": {
          "base_uri": "https://localhost:8080/",
          "height": 289
        },
        "outputId": "a37d4e11-c341-47de-e731-102005d0cfbf"
      },
      "source": [
        "batch_size = 32\n",
        "model1 = createmodel1()\n",
        "model1.fit(X_train, Y_train, epochs = 5, batch_size=batch_size, verbose = 2)\n",
        "score,acc = model1.evaluate(X_test,Y_test,verbose=2,batch_size=batch_size)\n",
        "print(score)\n",
        "print(acc)\n",
        "print(model1.metrics_names)"
      ],
      "execution_count": 11,
      "outputs": [
        {
          "output_type": "stream",
          "text": [
            "/usr/local/lib/python3.6/dist-packages/tensorflow/python/framework/indexed_slices.py:434: UserWarning: Converting sparse IndexedSlices to a dense Tensor of unknown shape. This may consume a large amount of memory.\n",
            "  \"Converting sparse IndexedSlices to a dense Tensor of unknown shape. \"\n"
          ],
          "name": "stderr"
        },
        {
          "output_type": "stream",
          "text": [
            "Epoch 1/5\n",
            " - 51s - loss: 0.1758 - accuracy: 0.9403\n",
            "Epoch 2/5\n",
            " - 51s - loss: 0.0427 - accuracy: 0.9877\n",
            "Epoch 3/5\n",
            " - 49s - loss: 0.0214 - accuracy: 0.9933\n",
            "Epoch 4/5\n",
            " - 50s - loss: 0.0128 - accuracy: 0.9965\n",
            "Epoch 5/5\n",
            " - 50s - loss: 0.0074 - accuracy: 0.9976\n",
            "0.09621281659995551\n",
            "0.9836868047714233\n",
            "['loss', 'accuracy']\n"
          ],
          "name": "stdout"
        }
      ]
    },
    {
      "cell_type": "code",
      "metadata": {
        "id": "r7pbe65uHnED",
        "colab_type": "code",
        "colab": {
          "base_uri": "https://localhost:8080/",
          "height": 202
        },
        "outputId": "550f13ab-129f-4b40-9945-3c52dc39f893"
      },
      "source": [
        "from time import time\n",
        "from keras.callbacks import TensorBoard\n",
        "tensorboard = TensorBoard(log_dir=\"/content/drive/My Drive/Colab Notebooks/logs1/{}\".format(time()))\n",
        "model1.fit(X_train,Y_train,verbose=1,callbacks=[tensorboard], epochs=5)"
      ],
      "execution_count": 13,
      "outputs": [
        {
          "output_type": "stream",
          "text": [
            "Epoch 1/5\n",
            "3733/3733 [==============================] - 52s 14ms/step - loss: 0.0047 - accuracy: 0.9989\n",
            "Epoch 2/5\n",
            "3733/3733 [==============================] - 51s 14ms/step - loss: 0.0031 - accuracy: 0.9989\n",
            "Epoch 3/5\n",
            "3733/3733 [==============================] - 52s 14ms/step - loss: 0.0115 - accuracy: 0.9965\n",
            "Epoch 4/5\n",
            "3733/3733 [==============================] - 52s 14ms/step - loss: 0.0162 - accuracy: 0.9941\n",
            "Epoch 5/5\n",
            "3733/3733 [==============================] - 52s 14ms/step - loss: 0.0046 - accuracy: 0.9987\n"
          ],
          "name": "stdout"
        },
        {
          "output_type": "execute_result",
          "data": {
            "text/plain": [
              "<keras.callbacks.callbacks.History at 0x7f3b5c644240>"
            ]
          },
          "metadata": {
            "tags": []
          },
          "execution_count": 13
        }
      ]
    },
    {
      "cell_type": "code",
      "metadata": {
        "id": "ZA9F5eKoHq4N",
        "colab_type": "code",
        "colab": {
          "base_uri": "https://localhost:8080/",
          "height": 121
        },
        "outputId": "524edd10-29a5-4f04-b66f-925e8c21377d"
      },
      "source": [
        "from google.colab import drive\n",
        "drive.mount('/content/drive')"
      ],
      "execution_count": 1,
      "outputs": [
        {
          "output_type": "stream",
          "text": [
            "Go to this URL in a browser: https://accounts.google.com/o/oauth2/auth?client_id=947318989803-6bn6qk8qdgf4n4g3pfee6491hc0brc4i.apps.googleusercontent.com&redirect_uri=urn%3aietf%3awg%3aoauth%3a2.0%3aoob&response_type=code&scope=email%20https%3a%2f%2fwww.googleapis.com%2fauth%2fdocs.test%20https%3a%2f%2fwww.googleapis.com%2fauth%2fdrive%20https%3a%2f%2fwww.googleapis.com%2fauth%2fdrive.photos.readonly%20https%3a%2f%2fwww.googleapis.com%2fauth%2fpeopleapi.readonly\n",
            "\n",
            "Enter your authorization code:\n",
            "··········\n",
            "Mounted at /content/drive\n"
          ],
          "name": "stdout"
        }
      ]
    }
  ]
}