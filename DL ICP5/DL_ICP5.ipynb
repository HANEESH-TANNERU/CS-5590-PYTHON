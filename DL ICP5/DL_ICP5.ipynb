{
  "nbformat": 4,
  "nbformat_minor": 0,
  "metadata": {
    "colab": {
      "name": "DL_ICP5.ipynb",
      "provenance": []
    },
    "kernelspec": {
      "name": "python3",
      "display_name": "Python 3"
    },
    "accelerator": "GPU"
  },
  "cells": [
    {
      "cell_type": "code",
      "metadata": {
        "id": "u70o2knoVDtt",
        "colab_type": "code",
        "outputId": "0847339b-2ede-4d58-ab7f-e6f20b260419",
        "colab": {
          "base_uri": "https://localhost:8080/",
          "height": 34
        }
      },
      "source": [
        "import pandas as pd # data processing, CSV file I/O (e.g. pd.read_csv)\n",
        "from keras.preprocessing.text import Tokenizer\n",
        "from keras.preprocessing.sequence import pad_sequences\n",
        "from keras.models import Sequential\n",
        "from keras.layers import Dense, Embedding, LSTM, SpatialDropout1D\n",
        "from matplotlib import pyplot\n",
        "from sklearn.model_selection import train_test_split\n",
        "from keras.utils.np_utils import to_categorical\n",
        "import re\n",
        "from sklearn.preprocessing import LabelEncoder"
      ],
      "execution_count": 0,
      "outputs": [
        {
          "output_type": "stream",
          "text": [
            "Using TensorFlow backend.\n"
          ],
          "name": "stderr"
        }
      ]
    },
    {
      "cell_type": "code",
      "metadata": {
        "id": "e9L-aFW-3ohu",
        "colab_type": "code",
        "outputId": "648a80d2-acbd-438a-e999-2c67620e9162",
        "colab": {
          "base_uri": "https://localhost:8080/",
          "height": 121
        }
      },
      "source": [
        "from google.colab import drive\n",
        "drive.mount('/content/drive')"
      ],
      "execution_count": 0,
      "outputs": [
        {
          "output_type": "stream",
          "text": [
            "Go to this URL in a browser: https://accounts.google.com/o/oauth2/auth?client_id=947318989803-6bn6qk8qdgf4n4g3pfee6491hc0brc4i.apps.googleusercontent.com&redirect_uri=urn%3aietf%3awg%3aoauth%3a2.0%3aoob&response_type=code&scope=email%20https%3a%2f%2fwww.googleapis.com%2fauth%2fdocs.test%20https%3a%2f%2fwww.googleapis.com%2fauth%2fdrive%20https%3a%2f%2fwww.googleapis.com%2fauth%2fdrive.photos.readonly%20https%3a%2f%2fwww.googleapis.com%2fauth%2fpeopleapi.readonly\n",
            "\n",
            "Enter your authorization code:\n",
            "··········\n",
            "Mounted at /content/drive\n"
          ],
          "name": "stdout"
        }
      ]
    },
    {
      "cell_type": "code",
      "metadata": {
        "id": "ZVtPfKcXVKfy",
        "colab_type": "code",
        "colab": {}
      },
      "source": [
        "data = pd.read_csv('drive/My Drive/python/DL ICP 5/Sentiment.csv')  \n",
        "# Keeping only the neccessary columns\n",
        "data = data[['text','sentiment']]"
      ],
      "execution_count": 0,
      "outputs": []
    },
    {
      "cell_type": "code",
      "metadata": {
        "id": "QZjgo8n7VQA1",
        "colab_type": "code",
        "colab": {}
      },
      "source": [
        "data['text'] = data['text'].apply(lambda x: x.lower())\n",
        "data['text'] = data['text'].apply((lambda x: re.sub('[^a-zA-z0-9\\s]', '', x)))"
      ],
      "execution_count": 0,
      "outputs": []
    },
    {
      "cell_type": "code",
      "metadata": {
        "id": "GvzWGl1rVRZY",
        "colab_type": "code",
        "colab": {}
      },
      "source": [
        "for idx, row in data.iterrows():\n",
        "    row[0] = row[0].replace('rt', ' ')"
      ],
      "execution_count": 0,
      "outputs": []
    },
    {
      "cell_type": "code",
      "metadata": {
        "id": "rcn-Si3-VTMZ",
        "colab_type": "code",
        "colab": {}
      },
      "source": [
        "max_fatures = 2000\n",
        "tokenizer = Tokenizer(num_words=max_fatures, split=' ')\n",
        "tokenizer.fit_on_texts(data['text'].values)\n",
        "X = tokenizer.texts_to_sequences(data['text'].values)\n",
        "\n",
        "X = pad_sequences(X)"
      ],
      "execution_count": 0,
      "outputs": []
    },
    {
      "cell_type": "code",
      "metadata": {
        "id": "t8b9O4zfVU0f",
        "colab_type": "code",
        "colab": {}
      },
      "source": [
        "def createmodel():\n",
        "    model = Sequential()\n",
        "    lstm_out=196\n",
        "    embed_dim=128\n",
        "    model.add(Embedding(max_fatures, embed_dim,input_length = X.shape[1]))\n",
        "    model.add(LSTM(lstm_out, dropout=0.2, recurrent_dropout=0.2))\n",
        "    model.add(Dense(3,activation='softmax'))\n",
        "    model.compile(loss = 'categorical_crossentropy', optimizer='adam',metrics = ['accuracy'])\n",
        "    return model\n",
        "    #print(model.summary())"
      ],
      "execution_count": 0,
      "outputs": []
    },
    {
      "cell_type": "code",
      "metadata": {
        "id": "dKOVUeyJVWcZ",
        "colab_type": "code",
        "outputId": "aa54a52b-0d77-46bb-c694-4a35c7805335",
        "colab": {
          "base_uri": "https://localhost:8080/",
          "height": 235
        }
      },
      "source": [
        "labelencoder = LabelEncoder()\n",
        "integer_encoded = labelencoder.fit_transform(data['sentiment'])\n",
        "print(integer_encoded)\n",
        "print(data['sentiment'])\n",
        "y = to_categorical(integer_encoded)\n",
        "X_train, X_test, Y_train, Y_test = train_test_split(X,y, test_size = 0.33, random_state = 42)"
      ],
      "execution_count": 0,
      "outputs": [
        {
          "output_type": "stream",
          "text": [
            "[1 2 1 ... 2 0 2]\n",
            "0         Neutral\n",
            "1        Positive\n",
            "2         Neutral\n",
            "3        Positive\n",
            "4        Positive\n",
            "           ...   \n",
            "13866    Negative\n",
            "13867    Positive\n",
            "13868    Positive\n",
            "13869    Negative\n",
            "13870    Positive\n",
            "Name: sentiment, Length: 13871, dtype: object\n"
          ],
          "name": "stdout"
        }
      ]
    },
    {
      "cell_type": "code",
      "metadata": {
        "id": "_gyUU0LtVYIC",
        "colab_type": "code",
        "outputId": "22913782-119e-4a04-8529-5895cd5ba3d6",
        "colab": {
          "base_uri": "https://localhost:8080/",
          "height": 793
        }
      },
      "source": [
        "batch_size = 32\n",
        "model = createmodel()\n",
        "model.fit(X_train, Y_train, epochs = 20, batch_size=batch_size, verbose = 2)\n",
        "score,acc = model.evaluate(X_test,Y_test,verbose=2,batch_size=batch_size)\n",
        "print('score',score)\n",
        "print('accuracy',acc)\n",
        "print('Model Metrics Names',model.metrics_names)"
      ],
      "execution_count": 0,
      "outputs": [
        {
          "output_type": "stream",
          "text": [
            "/usr/local/lib/python3.6/dist-packages/tensorflow/python/framework/indexed_slices.py:434: UserWarning: Converting sparse IndexedSlices to a dense Tensor of unknown shape. This may consume a large amount of memory.\n",
            "  \"Converting sparse IndexedSlices to a dense Tensor of unknown shape. \"\n"
          ],
          "name": "stderr"
        },
        {
          "output_type": "stream",
          "text": [
            "Epoch 1/20\n",
            " - 18s - loss: 0.8321 - accuracy: 0.6432\n",
            "Epoch 2/20\n",
            " - 16s - loss: 0.6833 - accuracy: 0.7146\n",
            "Epoch 3/20\n",
            " - 16s - loss: 0.6209 - accuracy: 0.7421\n",
            "Epoch 4/20\n",
            " - 16s - loss: 0.5758 - accuracy: 0.7619\n",
            "Epoch 5/20\n",
            " - 17s - loss: 0.5351 - accuracy: 0.7820\n",
            "Epoch 6/20\n",
            " - 16s - loss: 0.5034 - accuracy: 0.7958\n",
            "Epoch 7/20\n",
            " - 16s - loss: 0.4611 - accuracy: 0.8109\n",
            "Epoch 8/20\n",
            " - 16s - loss: 0.4283 - accuracy: 0.8256\n",
            "Epoch 9/20\n",
            " - 16s - loss: 0.4032 - accuracy: 0.8363\n",
            "Epoch 10/20\n",
            " - 16s - loss: 0.3788 - accuracy: 0.8463\n",
            "Epoch 11/20\n",
            " - 15s - loss: 0.3587 - accuracy: 0.8540\n",
            "Epoch 12/20\n",
            " - 16s - loss: 0.3403 - accuracy: 0.8618\n",
            "Epoch 13/20\n",
            " - 15s - loss: 0.3193 - accuracy: 0.8728\n",
            "Epoch 14/20\n",
            " - 16s - loss: 0.3002 - accuracy: 0.8779\n",
            "Epoch 15/20\n",
            " - 15s - loss: 0.3013 - accuracy: 0.8814\n",
            "Epoch 16/20\n",
            " - 15s - loss: 0.2771 - accuracy: 0.8893\n",
            "Epoch 17/20\n",
            " - 15s - loss: 0.2668 - accuracy: 0.8925\n",
            "Epoch 18/20\n",
            " - 15s - loss: 0.2570 - accuracy: 0.8954\n",
            "Epoch 19/20\n",
            " - 15s - loss: 0.2486 - accuracy: 0.8997\n",
            "Epoch 20/20\n",
            " - 15s - loss: 0.2399 - accuracy: 0.9020\n",
            "score 1.6545185507411466\n",
            "accuracy 0.638925313949585\n",
            "Model Metrics Names ['loss', 'accuracy']\n"
          ],
          "name": "stdout"
        }
      ]
    },
    {
      "cell_type": "code",
      "metadata": {
        "id": "YTBxZoWlRO1W",
        "colab_type": "code",
        "colab": {}
      },
      "source": [
        "model.save('htz6p.h5')"
      ],
      "execution_count": 0,
      "outputs": []
    },
    {
      "cell_type": "code",
      "metadata": {
        "id": "ZbxEtWFIRXTt",
        "colab_type": "code",
        "outputId": "723fd321-18f8-4798-aa6f-8eab8d1b7406",
        "colab": {
          "base_uri": "https://localhost:8080/",
          "height": 70
        }
      },
      "source": [
        "from keras.models import load_model\n",
        "model= load_model('htz6p.h5')"
      ],
      "execution_count": 0,
      "outputs": [
        {
          "output_type": "stream",
          "text": [
            "/usr/local/lib/python3.6/dist-packages/tensorflow/python/framework/indexed_slices.py:434: UserWarning: Converting sparse IndexedSlices to a dense Tensor of unknown shape. This may consume a large amount of memory.\n",
            "  \"Converting sparse IndexedSlices to a dense Tensor of unknown shape. \"\n"
          ],
          "name": "stderr"
        }
      ]
    },
    {
      "cell_type": "code",
      "metadata": {
        "id": "tx6bwPb-ZBVO",
        "colab_type": "code",
        "outputId": "442ef9e3-a379-4d28-edf8-71cba8891987",
        "colab": {
          "base_uri": "https://localhost:8080/",
          "height": 50
        }
      },
      "source": [
        "import numpy as np\n",
        "sentence = ['A lot of good things are happening. We are respected again throughout the world, and that is a great thing']\n",
        "#vectorizing the tweet by the pre-fitted tokenizer instance\n",
        "sentence = tokenizer.texts_to_sequences(sentence)\n",
        "#padding the tweet to have exactly the same shape as `embedding_2` input\n",
        "sentence = pad_sequences(sentence, maxlen=28, dtype='int32', value=0)\n",
        "sentiment = model.predict_classes(sentence,batch_size=1,verbose = 2)[0]\n",
        "print(sentiment)\n",
        "if sentiment == 1:\n",
        "  print(\"Neutral\")\n",
        "elif sentiment == 0:\n",
        "  print(\"Negative\")\n",
        "elif sentiment == 2:\n",
        "  print(\"Positive\")\n",
        "else:\n",
        "  print(\"Can not be determined\")"
      ],
      "execution_count": 0,
      "outputs": [
        {
          "output_type": "stream",
          "text": [
            "2\n",
            "Positive\n"
          ],
          "name": "stdout"
        }
      ]
    },
    {
      "cell_type": "markdown",
      "metadata": {
        "id": "2JaMYmEWRkNF",
        "colab_type": "text"
      },
      "source": [
        "2. Apply GridSearchCV on the source code provided in the class"
      ]
    },
    {
      "cell_type": "code",
      "metadata": {
        "id": "Nw5pyR8QIjum",
        "colab_type": "code",
        "outputId": "6f53f67f-fb79-4c4d-87cf-493482b98fa6",
        "colab": {
          "base_uri": "https://localhost:8080/",
          "height": 1000
        }
      },
      "source": [
        "from keras.wrappers.scikit_learn import KerasClassifier\n",
        "model = KerasClassifier(build_fn=createmodel,verbose=2)\n",
        "batch_size= [10, 20]\n",
        "epochs = [1, 2]\n",
        "param_grid= {'batch_size':batch_size, 'epochs':epochs}\n",
        "from sklearn.model_selection import GridSearchCV\n",
        "grid  = GridSearchCV(estimator=model, param_grid=param_grid)\n",
        "grid_result= grid.fit(X_train, y=Y_train)\n",
        "# summarize results\n",
        "print(\"Best: %f using %s\" % (grid_result.best_score_, grid_result.best_params_))"
      ],
      "execution_count": 0,
      "outputs": [
        {
          "output_type": "stream",
          "text": [
            "/usr/local/lib/python3.6/dist-packages/tensorflow/python/framework/indexed_slices.py:434: UserWarning: Converting sparse IndexedSlices to a dense Tensor of unknown shape. This may consume a large amount of memory.\n",
            "  \"Converting sparse IndexedSlices to a dense Tensor of unknown shape. \"\n"
          ],
          "name": "stderr"
        },
        {
          "output_type": "stream",
          "text": [
            "Epoch 1/1\n",
            " - 39s - loss: 0.8292 - accuracy: 0.6454\n",
            "Epoch 1/1\n",
            " - 39s - loss: 0.8274 - accuracy: 0.6462\n",
            "Epoch 1/1\n",
            " - 39s - loss: 0.8267 - accuracy: 0.6404\n",
            "Epoch 1/1\n",
            " - 40s - loss: 0.8290 - accuracy: 0.6473\n",
            "Epoch 1/1\n",
            " - 39s - loss: 0.8179 - accuracy: 0.6499\n",
            "Epoch 1/2\n",
            " - 38s - loss: 0.8329 - accuracy: 0.6443\n",
            "Epoch 2/2\n",
            " - 38s - loss: 0.6905 - accuracy: 0.7139\n",
            "Epoch 1/2\n",
            " - 39s - loss: 0.8319 - accuracy: 0.6447\n",
            "Epoch 2/2\n",
            " - 39s - loss: 0.6915 - accuracy: 0.7077\n",
            "Epoch 1/2\n",
            " - 38s - loss: 0.8331 - accuracy: 0.6423\n",
            "Epoch 2/2\n",
            " - 39s - loss: 0.6881 - accuracy: 0.7088\n",
            "Epoch 1/2\n",
            " - 39s - loss: 0.8332 - accuracy: 0.6433\n",
            "Epoch 2/2\n",
            " - 39s - loss: 0.6840 - accuracy: 0.7141\n",
            "Epoch 1/2\n",
            " - 39s - loss: 0.8197 - accuracy: 0.6506\n",
            "Epoch 2/2\n",
            " - 38s - loss: 0.6714 - accuracy: 0.7119\n",
            "Epoch 1/1\n",
            " - 20s - loss: 0.8389 - accuracy: 0.6396\n",
            "Epoch 1/1\n",
            " - 19s - loss: 0.8432 - accuracy: 0.6369\n",
            "Epoch 1/1\n",
            " - 19s - loss: 0.8398 - accuracy: 0.6381\n",
            "Epoch 1/1\n",
            " - 20s - loss: 0.8353 - accuracy: 0.6360\n",
            "Epoch 1/1\n",
            " - 19s - loss: 0.8391 - accuracy: 0.6382\n",
            "Epoch 1/2\n",
            " - 19s - loss: 0.8389 - accuracy: 0.6455\n",
            "Epoch 2/2\n",
            " - 19s - loss: 0.6923 - accuracy: 0.7077\n",
            "Epoch 1/2\n",
            " - 19s - loss: 0.8346 - accuracy: 0.6414\n",
            "Epoch 2/2\n",
            " - 19s - loss: 0.6906 - accuracy: 0.7103\n",
            "Epoch 1/2\n",
            " - 19s - loss: 0.8445 - accuracy: 0.6353\n",
            "Epoch 2/2\n",
            " - 19s - loss: 0.6885 - accuracy: 0.7063\n",
            "Epoch 1/2\n",
            " - 20s - loss: 0.8354 - accuracy: 0.6469\n",
            "Epoch 2/2\n",
            " - 20s - loss: 0.6880 - accuracy: 0.7087\n",
            "Epoch 1/2\n",
            " - 20s - loss: 0.8288 - accuracy: 0.6432\n",
            "Epoch 2/2\n",
            " - 20s - loss: 0.6788 - accuracy: 0.7139\n",
            "Epoch 1/2\n",
            " - 25s - loss: 0.8281 - accuracy: 0.6490\n",
            "Epoch 2/2\n",
            " - 24s - loss: 0.6817 - accuracy: 0.7110\n",
            "Best: 0.680943 using {'batch_size': 20, 'epochs': 2}\n"
          ],
          "name": "stdout"
        }
      ]
    },
    {
      "cell_type": "markdown",
      "metadata": {
        "id": "cjxLFuxmRaQr",
        "colab_type": "text"
      },
      "source": [
        "3. Apply the code on spamdata set availablein thesourcecode (text classification on the spam.csvdata set)"
      ]
    },
    {
      "cell_type": "code",
      "metadata": {
        "id": "_jGfuqbOQGgM",
        "colab_type": "code",
        "colab": {}
      },
      "source": [
        "data1 = pd.read_csv('drive/My Drive/python/DL ICP 5/spam.csv',encoding=\"ISO-8859-1\")\n",
        "\n",
        "# Keeping only the neccessary columns\n",
        "data1 = data1[['v1','v2']]"
      ],
      "execution_count": 0,
      "outputs": []
    },
    {
      "cell_type": "code",
      "metadata": {
        "id": "KlWtquHVQH7a",
        "colab_type": "code",
        "colab": {}
      },
      "source": [
        "data1['v2'] = data1['v2'].apply(lambda x: x.lower())\n",
        "data1['v2'] = data1['v2'].apply((lambda x: re.sub('[^a-zA-z0-9\\s]', '', x)))"
      ],
      "execution_count": 0,
      "outputs": []
    },
    {
      "cell_type": "code",
      "metadata": {
        "id": "RmoLWndiQevg",
        "colab_type": "code",
        "colab": {}
      },
      "source": [
        "for idx, row in data1.iterrows():\n",
        "    row[0] = row[0].replace('rt', ' ')"
      ],
      "execution_count": 0,
      "outputs": []
    },
    {
      "cell_type": "code",
      "metadata": {
        "id": "NxlwWkL6QmeF",
        "colab_type": "code",
        "colab": {}
      },
      "source": [
        "max_fatures = 2000\n",
        "tokenizer = Tokenizer(num_words=max_fatures, split=' ')\n",
        "tokenizer.fit_on_texts(data1['v2'].values)\n",
        "X = tokenizer.texts_to_sequences(data1['v2'].values)\n",
        "\n",
        "X = pad_sequences(X)"
      ],
      "execution_count": 0,
      "outputs": []
    },
    {
      "cell_type": "code",
      "metadata": {
        "id": "YhV6JOmPQsKA",
        "colab_type": "code",
        "colab": {}
      },
      "source": [
        "labelencoder = LabelEncoder()\n",
        "integer_encoded = labelencoder.fit_transform(data1['v1'])\n",
        "y = to_categorical(integer_encoded)\n",
        "X_train, X_test, Y_train, Y_test = train_test_split(X,y, test_size = 0.33, random_state = 42)"
      ],
      "execution_count": 0,
      "outputs": []
    },
    {
      "cell_type": "code",
      "metadata": {
        "id": "BAzB9Oo9QuhF",
        "colab_type": "code",
        "colab": {}
      },
      "source": [
        "def createmodel1():\n",
        "  embed_dim=128\n",
        "  lstm_out=196\n",
        "  model = Sequential()\n",
        "  model.add(Embedding(max_fatures, embed_dim,input_length = X.shape[1]))\n",
        "  model.add(LSTM(lstm_out, dropout=0.2, recurrent_dropout=0.2))\n",
        "  model.add(Dense(2,activation='sigmoid'))\n",
        "  model.compile(loss = 'categorical_crossentropy', optimizer='adam',metrics = ['accuracy'])\n",
        "  return model"
      ],
      "execution_count": 0,
      "outputs": []
    },
    {
      "cell_type": "code",
      "metadata": {
        "id": "gOwUj517Qwu9",
        "colab_type": "code",
        "outputId": "e6ded00a-b828-4955-dca8-4823a0f08df0",
        "colab": {
          "base_uri": "https://localhost:8080/",
          "height": 289
        }
      },
      "source": [
        "batch_size = 32\n",
        "model1 = createmodel1()\n",
        "model1.fit(X_train, Y_train, epochs = 5, batch_size=batch_size, verbose = 2)\n",
        "score,acc = model1.evaluate(X_test,Y_test,verbose=2,batch_size=batch_size)\n",
        "print(score)\n",
        "print(acc)\n",
        "print(model1.metrics_names)"
      ],
      "execution_count": 56,
      "outputs": [
        {
          "output_type": "stream",
          "text": [
            "/usr/local/lib/python3.6/dist-packages/tensorflow/python/framework/indexed_slices.py:434: UserWarning: Converting sparse IndexedSlices to a dense Tensor of unknown shape. This may consume a large amount of memory.\n",
            "  \"Converting sparse IndexedSlices to a dense Tensor of unknown shape. \"\n"
          ],
          "name": "stderr"
        },
        {
          "output_type": "stream",
          "text": [
            "Epoch 1/5\n",
            " - 37s - loss: 0.2354 - accuracy: 0.9202\n",
            "Epoch 2/5\n",
            " - 37s - loss: 0.0447 - accuracy: 0.9853\n",
            "Epoch 3/5\n",
            " - 37s - loss: 0.0262 - accuracy: 0.9928\n",
            "Epoch 4/5\n",
            " - 36s - loss: 0.0178 - accuracy: 0.9944\n",
            "Epoch 5/5\n",
            " - 36s - loss: 0.0111 - accuracy: 0.9973\n",
            "0.06725062398354423\n",
            "0.9825992584228516\n",
            "['loss', 'accuracy']\n"
          ],
          "name": "stdout"
        }
      ]
    }
  ]
}